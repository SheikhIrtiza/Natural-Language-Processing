{
 "cells": [
  {
   "cell_type": "markdown",
   "id": "c9cd510a",
   "metadata": {},
   "source": [
    "# Named Entity Recognition"
   ]
  },
  {
   "cell_type": "code",
   "execution_count": 6,
   "id": "2eb80011",
   "metadata": {
    "scrolled": true
   },
   "outputs": [
    {
     "name": "stdout",
     "output_type": "stream",
     "text": [
      "[('Google', 'GPE'), ('America', 'GPE'), ('Larry Page', 'PERSON'), ('Sergey Brin', 'PERSON'), ('Stanford University', 'ORGANIZATION'), ('California', 'GPE')]\n"
     ]
    }
   ],
   "source": [
    "import nltk\n",
    "doc = '''Google is an America multinational technology company that specializes in\n",
    "related services and products, which include online advertising technologies, search engine, cloud commputing,\n",
    "hardware. It was founded in1998 by Larry Page and Sergey Brin while they were Ph.D students \n",
    "at Stanford University in California'''\n",
    "#tokenize doc\n",
    "tokenized_doc = nltk.word_tokenize(doc)\n",
    "tagged_sentences = nltk.pos_tag(tokenized_doc)\n",
    "ne_chunked_sents = nltk.ne_chunk(tagged_sentences)\n",
    "\n",
    "#Extract all named entities\n",
    "named_entities = []\n",
    "for tagged_tree in ne_chunked_sents:\n",
    "    if hasattr(tagged_tree, 'label'):\n",
    "        entity_name = ' '.join(c[0] for c in tagged_tree.leaves())\n",
    "        entity_type = tagged_tree.label()\n",
    "        named_entities.append((entity_name, entity_type))\n",
    "print(named_entities)        \n",
    "        "
   ]
  },
  {
   "cell_type": "code",
   "execution_count": null,
   "id": "595820a4",
   "metadata": {},
   "outputs": [],
   "source": []
  }
 ],
 "metadata": {
  "kernelspec": {
   "display_name": "Python 3 (ipykernel)",
   "language": "python",
   "name": "python3"
  },
  "language_info": {
   "codemirror_mode": {
    "name": "ipython",
    "version": 3
   },
   "file_extension": ".py",
   "mimetype": "text/x-python",
   "name": "python",
   "nbconvert_exporter": "python",
   "pygments_lexer": "ipython3",
   "version": "3.9.12"
  }
 },
 "nbformat": 4,
 "nbformat_minor": 5
}
